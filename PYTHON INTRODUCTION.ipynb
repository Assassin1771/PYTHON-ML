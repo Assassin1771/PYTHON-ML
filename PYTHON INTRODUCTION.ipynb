{
 "cells": [
  {
   "cell_type": "markdown",
   "id": "93e8fdcd",
   "metadata": {},
   "source": [
    "# PYTHON INTRODUCTION"
   ]
  },
  {
   "cell_type": "code",
   "execution_count": 1,
   "id": "6bb40684",
   "metadata": {},
   "outputs": [
    {
     "name": "stdout",
     "output_type": "stream",
     "text": [
      "HELLO WORLD\n"
     ]
    }
   ],
   "source": [
    "print(\"HELLO WORLD\")"
   ]
  },
  {
   "cell_type": "code",
   "execution_count": 2,
   "id": "60141294",
   "metadata": {},
   "outputs": [
    {
     "name": "stdout",
     "output_type": "stream",
     "text": [
      "15\n"
     ]
    }
   ],
   "source": [
    "a=10;\n",
    "b=5;\n",
    "\n",
    "print(a+b);"
   ]
  },
  {
   "cell_type": "markdown",
   "id": "e7b708da",
   "metadata": {},
   "source": [
    "COMMENTS : \n",
    "1. WE CAN ALSO USE IPYTHON INSTEAD OF IPYTHON NOTEBOOK. BUT ALWAYS USE IPYTHON NOTEBOOK AS IT IS A MUCH ADVANCED VERSION.\n",
    "2. WE CAN START IPYTHON BY OPENING ANACONDA AND TYPING ipython."
   ]
  },
  {
   "cell_type": "markdown",
   "id": "de47e49e",
   "metadata": {},
   "source": [
    "VARIABLES"
   ]
  },
  {
   "cell_type": "code",
   "execution_count": 1,
   "id": "19ae23d3",
   "metadata": {},
   "outputs": [
    {
     "name": "stdout",
     "output_type": "stream",
     "text": [
      "2\n",
      "5\n"
     ]
    }
   ],
   "source": [
    "a=2;\n",
    "b=10;\n",
    "f=3.14;\n",
    "\n",
    "print(a);\n",
    "\n",
    "a=5;\n",
    "print(a);"
   ]
  },
  {
   "cell_type": "code",
   "execution_count": 2,
   "id": "65c8ba64",
   "metadata": {},
   "outputs": [
    {
     "name": "stdout",
     "output_type": "stream",
     "text": [
      "5\n"
     ]
    }
   ],
   "source": [
    "print(a)"
   ]
  },
  {
   "cell_type": "code",
   "execution_count": 3,
   "id": "05337033",
   "metadata": {},
   "outputs": [
    {
     "name": "stdout",
     "output_type": "stream",
     "text": [
      "HELLOWORLD\n"
     ]
    }
   ],
   "source": [
    "s=\"HELLO\";\n",
    "s1=\"WORLD\";\n",
    "\n",
    "print(s+s1);"
   ]
  },
  {
   "cell_type": "code",
   "execution_count": 4,
   "id": "5ec8dede",
   "metadata": {},
   "outputs": [
    {
     "name": "stdout",
     "output_type": "stream",
     "text": [
      "HELLO WORLD\n"
     ]
    }
   ],
   "source": [
    "print(s+\" \"+s1);"
   ]
  },
  {
   "cell_type": "code",
   "execution_count": 5,
   "id": "91b78961",
   "metadata": {},
   "outputs": [
    {
     "ename": "NameError",
     "evalue": "name 'a' is not defined",
     "output_type": "error",
     "traceback": [
      "\u001b[1;31m---------------------------------------------------------------------------\u001b[0m",
      "\u001b[1;31mNameError\u001b[0m                                 Traceback (most recent call last)",
      "\u001b[1;32m<ipython-input-5-45b47313ae56>\u001b[0m in \u001b[0;36m<module>\u001b[1;34m\u001b[0m\n\u001b[0;32m      1\u001b[0m \u001b[1;32mdel\u001b[0m\u001b[1;33m(\u001b[0m\u001b[0ma\u001b[0m\u001b[1;33m)\u001b[0m\u001b[1;33m;\u001b[0m\u001b[1;33m\u001b[0m\u001b[1;33m\u001b[0m\u001b[0m\n\u001b[1;32m----> 2\u001b[1;33m \u001b[0mprint\u001b[0m\u001b[1;33m(\u001b[0m\u001b[0ma\u001b[0m\u001b[1;33m)\u001b[0m\u001b[1;33m;\u001b[0m\u001b[1;33m\u001b[0m\u001b[1;33m\u001b[0m\u001b[0m\n\u001b[0m",
      "\u001b[1;31mNameError\u001b[0m: name 'a' is not defined"
     ]
    }
   ],
   "source": [
    "del(a);\n",
    "print(a);"
   ]
  },
  {
   "cell_type": "markdown",
   "id": "292b53be",
   "metadata": {},
   "source": [
    "del keyword deletes that variable from memory and we cant access it again"
   ]
  },
  {
   "cell_type": "code",
   "execution_count": 6,
   "id": "ae5438b5",
   "metadata": {},
   "outputs": [
    {
     "name": "stdout",
     "output_type": "stream",
     "text": [
      "<class 'int'>\n"
     ]
    }
   ],
   "source": [
    "a=5;\n",
    "print(type(a));"
   ]
  },
  {
   "cell_type": "code",
   "execution_count": 7,
   "id": "aa640a87",
   "metadata": {},
   "outputs": [
    {
     "name": "stdout",
     "output_type": "stream",
     "text": [
      "Variable   Type     Data/Info\n",
      "-----------------------------\n",
      "a          int      5\n",
      "b          int      10\n",
      "f          float    3.14\n",
      "s          str      HELLO\n",
      "s1         str      WORLD\n"
     ]
    }
   ],
   "source": [
    "%whos"
   ]
  },
  {
   "cell_type": "markdown",
   "id": "9429af86",
   "metadata": {},
   "source": [
    "%whos prints a table with list of all integers, their values and types. (Dont use ; after %whos)\n"
   ]
  },
  {
   "cell_type": "code",
   "execution_count": 9,
   "id": "b2801bf1",
   "metadata": {},
   "outputs": [
    {
     "ename": "NameError",
     "evalue": "name 'a' is not defined",
     "output_type": "error",
     "traceback": [
      "\u001b[1;31m---------------------------------------------------------------------------\u001b[0m",
      "\u001b[1;31mNameError\u001b[0m                                 Traceback (most recent call last)",
      "\u001b[1;32m<ipython-input-9-c200b4c80708>\u001b[0m in \u001b[0;36m<module>\u001b[1;34m\u001b[0m\n\u001b[1;32m----> 1\u001b[1;33m \u001b[1;32mdel\u001b[0m\u001b[1;33m(\u001b[0m\u001b[0ma\u001b[0m\u001b[1;33m)\u001b[0m\u001b[1;33m;\u001b[0m\u001b[1;33m\u001b[0m\u001b[1;33m\u001b[0m\u001b[0m\n\u001b[0m",
      "\u001b[1;31mNameError\u001b[0m: name 'a' is not defined"
     ]
    }
   ],
   "source": [
    "del(a);"
   ]
  },
  {
   "cell_type": "code",
   "execution_count": 10,
   "id": "d79d7dde",
   "metadata": {},
   "outputs": [
    {
     "name": "stderr",
     "output_type": "stream",
     "text": [
      "UsageError: Line magic function `%whos;` not found.\n"
     ]
    }
   ],
   "source": [
    "%whos;\n"
   ]
  },
  {
   "cell_type": "code",
   "execution_count": 13,
   "id": "7274965d",
   "metadata": {},
   "outputs": [
    {
     "name": "stdout",
     "output_type": "stream",
     "text": [
      "Variable   Type     Data/Info\n",
      "-----------------------------\n",
      "a          int      5\n",
      "b          int      10\n",
      "f          float    3.14\n",
      "s          str      HELLO\n",
      "s1         str      WORLD\n"
     ]
    }
   ],
   "source": [
    "a=5;\n",
    "%whos"
   ]
  },
  {
   "cell_type": "markdown",
   "id": "6eca637d",
   "metadata": {},
   "source": [
    "OPERATORS"
   ]
  },
  {
   "cell_type": "code",
   "execution_count": 14,
   "id": "f29db1ea",
   "metadata": {},
   "outputs": [
    {
     "name": "stdout",
     "output_type": "stream",
     "text": [
      "15\n",
      "5\n",
      "50\n",
      "2.0\n",
      "0.5\n",
      "0\n",
      "100000\n"
     ]
    }
   ],
   "source": [
    "a=10;\n",
    "b=5;\n",
    "\n",
    "print(a+b);\n",
    "print(a-b);\n",
    "print(a*b);\n",
    "print(a/b);\n",
    "print(b/a);\n",
    "print(b//a);\n",
    "print(a**b);"
   ]
  },
  {
   "cell_type": "markdown",
   "id": "101445e5",
   "metadata": {},
   "source": [
    "// : floor division <br>\n",
    "** : exponent\n",
    "<br>\n",
    "Use br to add new line in markdown.\n",
    "To give heading in markdown use # ... (in new line)"
   ]
  },
  {
   "cell_type": "code",
   "execution_count": 16,
   "id": "9f157847",
   "metadata": {},
   "outputs": [
    {
     "name": "stdout",
     "output_type": "stream",
     "text": [
      "False\n",
      "True\n"
     ]
    }
   ],
   "source": [
    "f1= True;\n",
    "f2= False;\n",
    "\n",
    "print(f1==f2);\n",
    "print(f1!=f2);"
   ]
  },
  {
   "cell_type": "code",
   "execution_count": 18,
   "id": "5a19c5db",
   "metadata": {},
   "outputs": [
    {
     "name": "stdout",
     "output_type": "stream",
     "text": [
      "<class 'bool'>\n"
     ]
    }
   ],
   "source": [
    "print(type(f1));"
   ]
  },
  {
   "cell_type": "markdown",
   "id": "86c238ad",
   "metadata": {},
   "source": [
    "Make sure while defining bool values, first letter CAPITAL."
   ]
  },
  {
   "cell_type": "markdown",
   "id": "0c9f4fbe",
   "metadata": {},
   "source": [
    "NOTE :  \n",
    "To execute a code press shift + enter <br>\n",
    "To change from code to markdown, unselect the cell first (press esc) then press m.\n",
    "To change from markdown to code, unselect cell, then press y."
   ]
  },
  {
   "cell_type": "markdown",
   "id": "1d40a5b0",
   "metadata": {},
   "source": [
    "SOME FUNCTIONS"
   ]
  },
  {
   "cell_type": "code",
   "execution_count": 19,
   "id": "8c7e4fa0",
   "metadata": {},
   "outputs": [
    {
     "name": "stdout",
     "output_type": "stream",
     "text": [
      "5\n",
      "4\n"
     ]
    }
   ],
   "source": [
    "print(round(4.5454545));\n",
    "print(round(4.1));"
   ]
  },
  {
   "cell_type": "code",
   "execution_count": 20,
   "id": "e4c1042b",
   "metadata": {},
   "outputs": [
    {
     "name": "stdout",
     "output_type": "stream",
     "text": [
      "3.144\n"
     ]
    }
   ],
   "source": [
    "print(round(3.14434234234,3));"
   ]
  },
  {
   "cell_type": "code",
   "execution_count": 21,
   "id": "b9eb9791",
   "metadata": {},
   "outputs": [
    {
     "name": "stdout",
     "output_type": "stream",
     "text": [
      "(2, 0)\n"
     ]
    }
   ],
   "source": [
    "print(divmod(10,5));"
   ]
  },
  {
   "cell_type": "markdown",
   "id": "e9c6eb13",
   "metadata": {},
   "source": [
    "Function returns quotient and remainder in an ordered tuple."
   ]
  },
  {
   "cell_type": "code",
   "execution_count": 22,
   "id": "97d6fdbd",
   "metadata": {},
   "outputs": [
    {
     "name": "stdout",
     "output_type": "stream",
     "text": [
      "(2, 0)\n",
      "2\n",
      "0\n"
     ]
    }
   ],
   "source": [
    "g=divmod(10,5);\n",
    "print(g);\n",
    "\n",
    "print(g[0]);\n",
    "print(g[1]);"
   ]
  },
  {
   "cell_type": "code",
   "execution_count": 23,
   "id": "6d51263f",
   "metadata": {},
   "outputs": [
    {
     "name": "stdout",
     "output_type": "stream",
     "text": [
      "16\n"
     ]
    }
   ],
   "source": [
    "print(pow(2,4));"
   ]
  },
  {
   "cell_type": "code",
   "execution_count": 24,
   "id": "1e2cd9ad",
   "metadata": {},
   "outputs": [
    {
     "name": "stdout",
     "output_type": "stream",
     "text": [
      "0\n"
     ]
    }
   ],
   "source": [
    "print(pow(2,4,2));"
   ]
  },
  {
   "cell_type": "markdown",
   "id": "5d13508e",
   "metadata": {},
   "source": [
    "means, 2 to the power of 4 then mod by 2"
   ]
  },
  {
   "cell_type": "code",
   "execution_count": 25,
   "id": "665e0de1",
   "metadata": {},
   "outputs": [
    {
     "name": "stdout",
     "output_type": "stream",
     "text": [
      "Enter anything123\n"
     ]
    }
   ],
   "source": [
    "x=input(\"Enter anything\");"
   ]
  },
  {
   "cell_type": "markdown",
   "id": "d87eb977",
   "metadata": {},
   "source": [
    "Default type of variable taken from input will always be x."
   ]
  },
  {
   "cell_type": "code",
   "execution_count": 26,
   "id": "44eed906",
   "metadata": {},
   "outputs": [
    {
     "name": "stdout",
     "output_type": "stream",
     "text": [
      "Variable   Type     Data/Info\n",
      "-----------------------------\n",
      "a          int      10\n",
      "b          int      5\n",
      "f          float    3.14\n",
      "f1         bool     True\n",
      "f2         bool     False\n",
      "g          tuple    n=2\n",
      "s          str      HELLO\n",
      "s1         str      WORLD\n",
      "x          str      123\n"
     ]
    }
   ],
   "source": [
    "%whos\n"
   ]
  },
  {
   "cell_type": "code",
   "execution_count": 27,
   "id": "c3d47a4e",
   "metadata": {},
   "outputs": [
    {
     "data": {
      "text/plain": [
       "str"
      ]
     },
     "execution_count": 27,
     "metadata": {},
     "output_type": "execute_result"
    }
   ],
   "source": [
    "type(x)"
   ]
  },
  {
   "cell_type": "code",
   "execution_count": 28,
   "id": "aecb2a53",
   "metadata": {},
   "outputs": [
    {
     "ename": "SyntaxError",
     "evalue": "invalid syntax (<ipython-input-28-6739b8d95302>, line 1)",
     "output_type": "error",
     "traceback": [
      "\u001b[1;36m  File \u001b[1;32m\"<ipython-input-28-6739b8d95302>\"\u001b[1;36m, line \u001b[1;32m1\u001b[0m\n\u001b[1;33m    x=(int)x;\u001b[0m\n\u001b[1;37m           ^\u001b[0m\n\u001b[1;31mSyntaxError\u001b[0m\u001b[1;31m:\u001b[0m invalid syntax\n"
     ]
    }
   ],
   "source": [
    "x=(int)x;\n",
    "type(x);"
   ]
  },
  {
   "cell_type": "code",
   "execution_count": 30,
   "id": "87dee96e",
   "metadata": {},
   "outputs": [],
   "source": [
    "x=int(x)"
   ]
  },
  {
   "cell_type": "code",
   "execution_count": 32,
   "id": "54354425",
   "metadata": {},
   "outputs": [
    {
     "data": {
      "text/plain": [
       "int"
      ]
     },
     "execution_count": 32,
     "metadata": {},
     "output_type": "execute_result"
    }
   ],
   "source": [
    "type(x)"
   ]
  },
  {
   "cell_type": "markdown",
   "id": "6485eba9",
   "metadata": {},
   "source": [
    "Dont enter ; after type(x)"
   ]
  },
  {
   "cell_type": "markdown",
   "id": "6385cc56",
   "metadata": {},
   "source": [
    "To get info about a function do as, pow? or help(pow)"
   ]
  },
  {
   "cell_type": "code",
   "execution_count": 33,
   "id": "078385dc",
   "metadata": {},
   "outputs": [],
   "source": [
    "pow?\n"
   ]
  },
  {
   "cell_type": "code",
   "execution_count": 34,
   "id": "c65fb033",
   "metadata": {},
   "outputs": [
    {
     "name": "stdout",
     "output_type": "stream",
     "text": [
      "Help on built-in function pow in module builtins:\n",
      "\n",
      "pow(base, exp, mod=None)\n",
      "    Equivalent to base**exp with 2 arguments or base**exp % mod with 3 arguments\n",
      "    \n",
      "    Some types, such as ints, are able to use a more efficient algorithm when\n",
      "    invoked using the three argument form.\n",
      "\n"
     ]
    }
   ],
   "source": [
    "help(pow);"
   ]
  },
  {
   "cell_type": "markdown",
   "id": "80f2dcf3",
   "metadata": {},
   "source": [
    "CONTROL STATEMENTS"
   ]
  },
  {
   "cell_type": "code",
   "execution_count": 36,
   "id": "41efa192",
   "metadata": {},
   "outputs": [
    {
     "name": "stdout",
     "output_type": "stream",
     "text": [
      "30\n",
      "ELSE BLOCK\n"
     ]
    }
   ],
   "source": [
    "a=20;\n",
    "b=30;\n",
    "\n",
    "if a>b:\n",
    "    print(a);\n",
    "    print('STILL IF BLOCK');\n",
    "    \n",
    "else:    \n",
    "    print(b);\n",
    "    print(\"ELSE BLOCK\");"
   ]
  },
  {
   "cell_type": "code",
   "execution_count": 39,
   "id": "44c734f4",
   "metadata": {},
   "outputs": [
    {
     "name": "stdout",
     "output_type": "stream",
     "text": [
      "30 ELIF BLOCK\n",
      "OUTSIDE OF ALL CONTROL BLOCKS\n"
     ]
    }
   ],
   "source": [
    "c=25;\n",
    "\n",
    "if a>b:\n",
    "    print(str(a)+\" IF BLOCK\")\n",
    "\n",
    "elif b>a: \n",
    "    print(str(b)+\" ELIF BLOCK\");\n",
    "    \n",
    "else:\n",
    "    print(\"ELSE BLOCK\");\n",
    "    \n",
    "\n",
    "print(\"OUTSIDE OF ALL CONTROL BLOCKS\")"
   ]
  },
  {
   "cell_type": "code",
   "execution_count": 41,
   "id": "e3102cb2",
   "metadata": {},
   "outputs": [],
   "source": [
    "#comment"
   ]
  },
  {
   "cell_type": "markdown",
   "id": "e16c9df3",
   "metadata": {},
   "source": [
    "LOOPS"
   ]
  },
  {
   "cell_type": "code",
   "execution_count": 2,
   "id": "c2f83fef",
   "metadata": {},
   "outputs": [
    {
     "name": "stdout",
     "output_type": "stream",
     "text": [
      "0\n",
      "1\n",
      "2\n",
      "3\n",
      "4\n",
      "5\n",
      "6\n",
      "7\n",
      "8\n",
      "9\n",
      "DONE\n"
     ]
    }
   ],
   "source": [
    "n=10;\n",
    "i=0;\n",
    "\n",
    "while i<n:\n",
    "    print(i);\n",
    "    i=i+1;\n",
    "    \n",
    "print(\"DONE\");"
   ]
  },
  {
   "cell_type": "code",
   "execution_count": 3,
   "id": "223d429f",
   "metadata": {},
   "outputs": [],
   "source": [
    "#continue and break also available, use accordingly."
   ]
  },
  {
   "cell_type": "code",
   "execution_count": 4,
   "id": "4c9a408a",
   "metadata": {},
   "outputs": [
    {
     "name": "stdout",
     "output_type": "stream",
     "text": [
      "0\n",
      "1\n",
      "2\n",
      "3\n",
      "4\n",
      "5\n",
      "6\n",
      "7\n",
      "8\n",
      "9\n"
     ]
    }
   ],
   "source": [
    "for i in range(10):\n",
    "    print(i);"
   ]
  },
  {
   "cell_type": "code",
   "execution_count": 7,
   "id": "f91301dc",
   "metadata": {},
   "outputs": [
    {
     "name": "stdout",
     "output_type": "stream",
     "text": [
      "0\n",
      "2\n",
      "4\n",
      "6\n",
      "8\n"
     ]
    }
   ],
   "source": [
    "for i in range(0,10,2):\n",
    "    print(i);"
   ]
  },
  {
   "cell_type": "code",
   "execution_count": 8,
   "id": "7b16f1c4",
   "metadata": {},
   "outputs": [
    {
     "name": "stdout",
     "output_type": "stream",
     "text": [
      "1\n",
      "2\n",
      "3\n"
     ]
    }
   ],
   "source": [
    "a=[1,2,3];\n",
    "for i in a:\n",
    "    print(i);"
   ]
  },
  {
   "cell_type": "code",
   "execution_count": 9,
   "id": "b697fc74",
   "metadata": {},
   "outputs": [
    {
     "name": "stdout",
     "output_type": "stream",
     "text": [
      "1\n",
      "2\n",
      "3\n",
      "4\n"
     ]
    }
   ],
   "source": [
    "a=[1,2,3];\n",
    "a.append(4);\n",
    "\n",
    "for i in a:\n",
    "    print(i);"
   ]
  },
  {
   "cell_type": "code",
   "execution_count": 11,
   "id": "b5d5c14c",
   "metadata": {},
   "outputs": [
    {
     "name": "stdout",
     "output_type": "stream",
     "text": [
      "a 5\n",
      "b 10\n"
     ]
    }
   ],
   "source": [
    "d={\"a\":5,\"b\":10};\n",
    "for i in d:\n",
    "    print(i,d[i]);"
   ]
  },
  {
   "cell_type": "code",
   "execution_count": 12,
   "id": "42f0dc35",
   "metadata": {},
   "outputs": [],
   "source": [
    "#above is an example of dictionay data structure, key and value pairs array"
   ]
  },
  {
   "cell_type": "markdown",
   "id": "4a36458e",
   "metadata": {},
   "source": [
    "FUNCTIONS"
   ]
  },
  {
   "cell_type": "code",
   "execution_count": 13,
   "id": "ad9092aa",
   "metadata": {},
   "outputs": [
    {
     "name": "stdout",
     "output_type": "stream",
     "text": [
      "THIS IS FUN1\n"
     ]
    }
   ],
   "source": [
    "def fun1():\n",
    "    print(\"THIS IS FUN1\");\n",
    "    \n",
    "fun1();\n"
   ]
  },
  {
   "cell_type": "code",
   "execution_count": 14,
   "id": "fb513c36",
   "metadata": {},
   "outputs": [
    {
     "name": "stdout",
     "output_type": "stream",
     "text": [
      "5\n"
     ]
    }
   ],
   "source": [
    "def fun2(a):\n",
    "    print(a);\n",
    "    \n",
    "fun2(5);"
   ]
  },
  {
   "cell_type": "code",
   "execution_count": 15,
   "id": "169ff86b",
   "metadata": {},
   "outputs": [
    {
     "name": "stdout",
     "output_type": "stream",
     "text": [
      "5\n",
      "4\n",
      "3\n",
      "2\n",
      "1\n"
     ]
    }
   ],
   "source": [
    "def count(n):\n",
    "    \n",
    "    if n==0:\n",
    "        return;\n",
    "    \n",
    "    print(n);\n",
    "    count(n-1);\n",
    "    \n",
    "count(5);\n",
    "    "
   ]
  },
  {
   "cell_type": "code",
   "execution_count": 17,
   "id": "70bf6ecc",
   "metadata": {},
   "outputs": [
    {
     "name": "stdout",
     "output_type": "stream",
     "text": [
      "2\n",
      "4\n",
      "5\n",
      "6\n",
      "smdfdsf\n",
      "6.7\n",
      "6\n"
     ]
    }
   ],
   "source": [
    "#if we want to take send multiple different values to a function\n",
    "\n",
    "def fun1(*args):\n",
    "    for i in range(len(args)):\n",
    "        print(args[i]);\n",
    "        \n",
    "    print(len(args));\n",
    "        \n",
    "\n",
    "        \n",
    "fun1(2,4,5,6,\"smdfdsf\",6.7);"
   ]
  },
  {
   "cell_type": "code",
   "execution_count": 18,
   "id": "93e5ac6f",
   "metadata": {},
   "outputs": [
    {
     "name": "stdout",
     "output_type": "stream",
     "text": [
      "2\n",
      "0\n"
     ]
    }
   ],
   "source": [
    "def fun1(sum=0):\n",
    "    print(sum);\n",
    "    \n",
    "fun1(2);\n",
    "fun1();"
   ]
  },
  {
   "cell_type": "code",
   "execution_count": 19,
   "id": "ab7be9e3",
   "metadata": {},
   "outputs": [],
   "source": [
    "#default values"
   ]
  },
  {
   "cell_type": "markdown",
   "id": "6b7ec904",
   "metadata": {},
   "source": [
    "MODULES"
   ]
  },
  {
   "cell_type": "markdown",
   "id": "935c2a41",
   "metadata": {},
   "source": [
    "Module is a python file which contain a list of fucntions. We import modules, so as to use those functions in our current project or work."
   ]
  },
  {
   "cell_type": "code",
   "execution_count": 23,
   "id": "8affefde",
   "metadata": {},
   "outputs": [
    {
     "name": "stdout",
     "output_type": "stream",
     "text": [
      "HELLO WORLD\n"
     ]
    }
   ],
   "source": [
    "import sys\n",
    "sys.path.append('C:/Users/Tushar/Desktop/PYTHON')\n",
    "\n",
    "import Modules as m;\n",
    "m.fun1();"
   ]
  },
  {
   "cell_type": "markdown",
   "id": "6f21fd5a",
   "metadata": {},
   "source": [
    "Like all the other modules, the sys module has to be imported with the import statement, i.e. The sys module provides information about constants, functions and methods of the Python interpreter."
   ]
  },
  {
   "cell_type": "code",
   "execution_count": 26,
   "id": "19c4917d",
   "metadata": {},
   "outputs": [
    {
     "name": "stdout",
     "output_type": "stream",
     "text": [
      "HELLO WORLD\n"
     ]
    }
   ],
   "source": [
    "m.fun1();"
   ]
  },
  {
   "cell_type": "markdown",
   "id": "b60d313c",
   "metadata": {},
   "source": [
    "STRINGS\n"
   ]
  },
  {
   "cell_type": "markdown",
   "id": "868a43dd",
   "metadata": {},
   "source": [
    "\" \" and ' ' are same in python"
   ]
  },
  {
   "cell_type": "code",
   "execution_count": 1,
   "id": "f8a45289",
   "metadata": {},
   "outputs": [
    {
     "name": "stdout",
     "output_type": "stream",
     "text": [
      "fsdfdsf sdfsdf\n"
     ]
    }
   ],
   "source": [
    "print(\"fsdfdsf\",\"sdfsdf\");"
   ]
  },
  {
   "cell_type": "code",
   "execution_count": 4,
   "id": "2ebfed41",
   "metadata": {},
   "outputs": [
    {
     "name": "stdout",
     "output_type": "stream",
     "text": [
      "fnsdknfsd\n",
      "fsdkfsdnfkd\n",
      "sdkfsnds\n"
     ]
    }
   ],
   "source": [
    "s1=\"\"\"fnsdknfsd\n",
    "fsdkfsdnfkd\n",
    "sdkfsnds\"\"\"\n",
    "\n",
    "print(s1);"
   ]
  },
  {
   "cell_type": "code",
   "execution_count": 5,
   "id": "50b43691",
   "metadata": {},
   "outputs": [
    {
     "name": "stdout",
     "output_type": "stream",
     "text": [
      "H\n"
     ]
    }
   ],
   "source": [
    "s=\"HELLO WORLD\";\n",
    "\n",
    "print(s[0]);"
   ]
  },
  {
   "cell_type": "code",
   "execution_count": 7,
   "id": "d13535d6",
   "metadata": {},
   "outputs": [
    {
     "name": "stdout",
     "output_type": "stream",
     "text": [
      "LO WO\n"
     ]
    }
   ],
   "source": [
    "print(s[3:8]);\n",
    "\n"
   ]
  },
  {
   "cell_type": "code",
   "execution_count": 8,
   "id": "cf430838",
   "metadata": {},
   "outputs": [
    {
     "name": "stdout",
     "output_type": "stream",
     "text": [
      "D\n"
     ]
    }
   ],
   "source": [
    "print(s[-1]);"
   ]
  },
  {
   "cell_type": "markdown",
   "id": "a56850d9",
   "metadata": {},
   "source": [
    "negative index starts from end of the original string"
   ]
  },
  {
   "cell_type": "markdown",
   "id": "c768a16b",
   "metadata": {},
   "source": [
    "Slicing in Python is a feature that enables accessing parts of sequences like strings, tuples, and lists. You can also use them to modify or delete the items of mutable sequences such as lists.\n",
    "\n",
    "Lists are immutable in python, so cant modify strings.\n",
    "\n",
    "“Indexing” means referring to an element of an iterable by its position within the iterable. "
   ]
  },
  {
   "cell_type": "code",
   "execution_count": 9,
   "id": "c020647e",
   "metadata": {},
   "outputs": [
    {
     "name": "stdout",
     "output_type": "stream",
     "text": [
      "sdmkfsn\n"
     ]
    }
   ],
   "source": [
    "s1=\"        sdmkfsn       \";\n",
    "print(s1.strip());"
   ]
  },
  {
   "cell_type": "code",
   "execution_count": 10,
   "id": "6533f959",
   "metadata": {},
   "outputs": [
    {
     "name": "stdout",
     "output_type": "stream",
     "text": [
      "dmsdasaa\n"
     ]
    }
   ],
   "source": [
    "s1=\"dmsdasaa\";\n",
    "print(s1.lower());"
   ]
  },
  {
   "cell_type": "code",
   "execution_count": 11,
   "id": "ad3eab7c",
   "metadata": {},
   "outputs": [
    {
     "name": "stdout",
     "output_type": "stream",
     "text": [
      "DMSDASAA\n"
     ]
    }
   ],
   "source": [
    "print(s1.upper());"
   ]
  },
  {
   "cell_type": "code",
   "execution_count": 17,
   "id": "9f47aab9",
   "metadata": {},
   "outputs": [
    {
     "name": "stdout",
     "output_type": "stream",
     "text": [
      "dmsdasaa\n",
      "DmsDasaa\n"
     ]
    }
   ],
   "source": [
    "s2=s1.replace('d','D');\n",
    "print(s1);\n",
    "print(s2);"
   ]
  },
  {
   "cell_type": "code",
   "execution_count": 18,
   "id": "9123505e",
   "metadata": {},
   "outputs": [
    {
     "name": "stdout",
     "output_type": "stream",
     "text": [
      "['abc', 'def', 'ifj', '']\n"
     ]
    }
   ],
   "source": [
    "s1=\"abc;def;ifj;\"\n",
    "a=s1.split(';');\n",
    "\n",
    "print(a);"
   ]
  },
  {
   "cell_type": "code",
   "execution_count": null,
   "id": "e68bc7d2",
   "metadata": {},
   "outputs": [],
   "source": []
  }
 ],
 "metadata": {
  "kernelspec": {
   "display_name": "Python 3",
   "language": "python",
   "name": "python3"
  },
  "language_info": {
   "codemirror_mode": {
    "name": "ipython",
    "version": 3
   },
   "file_extension": ".py",
   "mimetype": "text/x-python",
   "name": "python",
   "nbconvert_exporter": "python",
   "pygments_lexer": "ipython3",
   "version": "3.8.8"
  }
 },
 "nbformat": 4,
 "nbformat_minor": 5
}
