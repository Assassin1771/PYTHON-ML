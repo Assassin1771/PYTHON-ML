{
 "cells": [
  {
   "cell_type": "markdown",
   "id": "705b5cf3",
   "metadata": {},
   "source": [
    "# DATA STRUCTURES"
   ]
  },
  {
   "cell_type": "code",
   "execution_count": 2,
   "id": "a94b2a3a",
   "metadata": {},
   "outputs": [
    {
     "name": "stdout",
     "output_type": "stream",
     "text": [
      "<class 'list'>\n",
      "<class 'tuple'>\n",
      "<class 'set'>\n",
      "<class 'dict'>\n"
     ]
    }
   ],
   "source": [
    "L=[1,3.14,\"HELLO\",'A']; #list\n",
    "T=(1,3.14,\"HELLO\",'A'); #tuple\n",
    "S={1,3.14,\"HELLO\",'A'}; #set\n",
    "D={1:\"A\",2:'B'}; #dictionary\n",
    "\n",
    "#difference is in the way of brackets\n",
    "\n",
    "print(type(L));\n",
    "print(type(T));\n",
    "print(type(S));\n",
    "print(type(D));"
   ]
  },
  {
   "cell_type": "code",
   "execution_count": 3,
   "id": "724f2eab",
   "metadata": {},
   "outputs": [
    {
     "name": "stdout",
     "output_type": "stream",
     "text": [
      "3.14\n"
     ]
    }
   ],
   "source": [
    "print(L[1]);"
   ]
  },
  {
   "cell_type": "code",
   "execution_count": 5,
   "id": "cb37e077",
   "metadata": {},
   "outputs": [
    {
     "name": "stdout",
     "output_type": "stream",
     "text": [
      "HELLO\n"
     ]
    }
   ],
   "source": [
    "print(T[2]);"
   ]
  },
  {
   "cell_type": "code",
   "execution_count": 7,
   "id": "0d813a43",
   "metadata": {},
   "outputs": [
    {
     "name": "stdout",
     "output_type": "stream",
     "text": [
      "False\n"
     ]
    }
   ],
   "source": [
    "print(2 in S);"
   ]
  },
  {
   "cell_type": "code",
   "execution_count": 8,
   "id": "936792ea",
   "metadata": {},
   "outputs": [
    {
     "name": "stdout",
     "output_type": "stream",
     "text": [
      "A\n"
     ]
    }
   ],
   "source": [
    "print(D[1]);"
   ]
  },
  {
   "cell_type": "code",
   "execution_count": 18,
   "id": "b6b4d422",
   "metadata": {},
   "outputs": [
    {
     "name": "stdout",
     "output_type": "stream",
     "text": [
      "HELLO\n",
      "[3.14, 'HELLO']\n",
      "[1, 3.14, 'HELLO', 'A']\n"
     ]
    }
   ],
   "source": [
    "print(L[2]);\n",
    "print(L[1:3]);\n",
    "print(L[::]);\n",
    "\n"
   ]
  },
  {
   "cell_type": "code",
   "execution_count": 17,
   "id": "b4dd6fa3",
   "metadata": {},
   "outputs": [
    {
     "name": "stdout",
     "output_type": "stream",
     "text": [
      "HELLO\n",
      "(1, 3.14, 'HELLO')\n",
      "(1, 3.14)\n"
     ]
    }
   ],
   "source": [
    "print(T[2]);\n",
    "print(T[:3]);\n",
    "print(T[0:2]);"
   ]
  },
  {
   "cell_type": "code",
   "execution_count": 31,
   "id": "2c74ba03",
   "metadata": {},
   "outputs": [
    {
     "name": "stdout",
     "output_type": "stream",
     "text": [
      "[1, 3.14, 'HELLO', 'A']\n"
     ]
    }
   ],
   "source": [
    "L=[1,3.14,\"HELLO\",'A']\n",
    "print(L);"
   ]
  },
  {
   "cell_type": "code",
   "execution_count": 32,
   "id": "ac3ccab0",
   "metadata": {},
   "outputs": [
    {
     "name": "stdout",
     "output_type": "stream",
     "text": [
      "[1, 3.14, 'HELLO', 'A', 4]\n"
     ]
    }
   ],
   "source": [
    "L=L+[4];\n",
    "print(L);"
   ]
  },
  {
   "cell_type": "code",
   "execution_count": 34,
   "id": "85a3069b",
   "metadata": {},
   "outputs": [
    {
     "name": "stdout",
     "output_type": "stream",
     "text": [
      "(1, 3.14, 'HELLO', 'A', 'a', 'b', 45)\n"
     ]
    }
   ],
   "source": [
    "T2=('a','b',45);\n",
    "T3=T+T2;\n",
    "\n",
    "print(T3);"
   ]
  },
  {
   "cell_type": "code",
   "execution_count": 35,
   "id": "d3f948f1",
   "metadata": {},
   "outputs": [],
   "source": [
    "#tuples immutable"
   ]
  },
  {
   "cell_type": "code",
   "execution_count": 39,
   "id": "5fa42ac2",
   "metadata": {},
   "outputs": [
    {
     "name": "stdout",
     "output_type": "stream",
     "text": [
      "{1, 3.14, 4, 'A', 'HELLO'}\n"
     ]
    }
   ],
   "source": [
    "S.add(4);\n",
    "print(S);"
   ]
  },
  {
   "cell_type": "code",
   "execution_count": 40,
   "id": "ee32dc71",
   "metadata": {},
   "outputs": [
    {
     "name": "stdout",
     "output_type": "stream",
     "text": [
      "{1, 3.14, 4, 5, 'fsndkfsd', 6, 'A', 'HELLO'}\n"
     ]
    }
   ],
   "source": [
    "S.update({5,6,\"fsndkfsd\"});\n",
    "print(S);"
   ]
  },
  {
   "cell_type": "code",
   "execution_count": 41,
   "id": "5728da3e",
   "metadata": {},
   "outputs": [
    {
     "name": "stdout",
     "output_type": "stream",
     "text": [
      "{1: 'A', 2: 'B'}\n"
     ]
    }
   ],
   "source": [
    "print(D);"
   ]
  },
  {
   "cell_type": "code",
   "execution_count": 44,
   "id": "2bdd323d",
   "metadata": {},
   "outputs": [
    {
     "name": "stdout",
     "output_type": "stream",
     "text": [
      "{1: 'A', 2: 'B', 3: 'C'}\n"
     ]
    }
   ],
   "source": [
    "D[3]='C';\n",
    "print(D);"
   ]
  },
  {
   "cell_type": "code",
   "execution_count": 45,
   "id": "2113d8cd",
   "metadata": {},
   "outputs": [
    {
     "name": "stdout",
     "output_type": "stream",
     "text": [
      "{1: 'A', 2: 'B'}\n"
     ]
    }
   ],
   "source": [
    "del D[3];\n",
    "print(D);"
   ]
  }
 ],
 "metadata": {
  "kernelspec": {
   "display_name": "Python 3",
   "language": "python",
   "name": "python3"
  },
  "language_info": {
   "codemirror_mode": {
    "name": "ipython",
    "version": 3
   },
   "file_extension": ".py",
   "mimetype": "text/x-python",
   "name": "python",
   "nbconvert_exporter": "python",
   "pygments_lexer": "ipython3",
   "version": "3.8.8"
  }
 },
 "nbformat": 4,
 "nbformat_minor": 5
}
