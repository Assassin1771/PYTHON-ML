{
 "cells": [
  {
   "cell_type": "markdown",
   "id": "93e8fdcd",
   "metadata": {},
   "source": [
    "# PYTHON TUTORIAL (JUPYTER NOTEBOOK)"
   ]
  },
  {
   "cell_type": "code",
   "execution_count": 1,
   "id": "6bb40684",
   "metadata": {},
   "outputs": [
    {
     "name": "stdout",
     "output_type": "stream",
     "text": [
      "HELLO WORLD\n"
     ]
    }
   ],
   "source": [
    "print(\"HELLO WORLD\")"
   ]
  },
  {
   "cell_type": "code",
   "execution_count": 2,
   "id": "60141294",
   "metadata": {},
   "outputs": [
    {
     "name": "stdout",
     "output_type": "stream",
     "text": [
      "15\n"
     ]
    }
   ],
   "source": [
    "a=10;\n",
    "b=5;\n",
    "\n",
    "print(a+b);"
   ]
  },
  {
   "cell_type": "markdown",
   "id": "e7b708da",
   "metadata": {},
   "source": [
    "COMMENTS : \n",
    "1. WE CAN ALSO USE IPYTHON INSTEAD OF IPYTHON NOTEBOOK. BUT ALWAYS USE IPYTHON NOTEBOOK AS IT IS A MUCH ADVANCED VERSION.\n",
    "2. WE CAN START IPYTHON BY OPENING ANACONDA AND TYPING ipython."
   ]
  },
  {
   "cell_type": "code",
   "execution_count": null,
   "id": "efa9037c",
   "metadata": {},
   "outputs": [],
   "source": []
  }
 ],
 "metadata": {
  "kernelspec": {
   "display_name": "Python 3",
   "language": "python",
   "name": "python3"
  },
  "language_info": {
   "codemirror_mode": {
    "name": "ipython",
    "version": 3
   },
   "file_extension": ".py",
   "mimetype": "text/x-python",
   "name": "python",
   "nbconvert_exporter": "python",
   "pygments_lexer": "ipython3",
   "version": "3.8.8"
  }
 },
 "nbformat": 4,
 "nbformat_minor": 5
}
