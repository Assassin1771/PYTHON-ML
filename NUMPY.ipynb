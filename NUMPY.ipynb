{
 "cells": [
  {
   "cell_type": "markdown",
   "id": "e44abdc3",
   "metadata": {},
   "source": [
    "# NUMPY"
   ]
  },
  {
   "cell_type": "markdown",
   "id": "09bdc229",
   "metadata": {},
   "source": [
    "NumPy is a Python library used for working with arrays.\n",
    "\n",
    "It also has functions for working in domain of linear algebra, fourier transform, and matrices.\n",
    "\n",
    "NumPy stands for Numerical Python.\n"
   ]
  },
  {
   "cell_type": "code",
   "execution_count": 5,
   "id": "a3ab7b66",
   "metadata": {},
   "outputs": [
    {
     "name": "stdout",
     "output_type": "stream",
     "text": [
      "[1 2 3 4 5]\n",
      "<class 'numpy.ndarray'>\n"
     ]
    }
   ],
   "source": [
    "import numpy as np;\n",
    "a=np.array([1,2,3,4,5]);\n",
    "b=np.array((6,7,8));\n",
    "\n",
    "#can declare type of array as:-\n",
    "c=np.array([12,45,61],dtype='f');\n",
    "\n",
    "print(a);\n",
    "print(type(a));"
   ]
  },
  {
   "cell_type": "code",
   "execution_count": 3,
   "id": "b5f5f819",
   "metadata": {},
   "outputs": [
    {
     "name": "stdout",
     "output_type": "stream",
     "text": [
      "int32\n"
     ]
    }
   ],
   "source": [
    "print(a.dtype); #dtype defines datatype in an array;"
   ]
  },
  {
   "cell_type": "code",
   "execution_count": 7,
   "id": "2fcba401",
   "metadata": {},
   "outputs": [
    {
     "name": "stdout",
     "output_type": "stream",
     "text": [
      "float32\n"
     ]
    }
   ],
   "source": [
    "print(c.dtype);"
   ]
  },
  {
   "cell_type": "code",
   "execution_count": 9,
   "id": "0b33737c",
   "metadata": {},
   "outputs": [
    {
     "name": "stdout",
     "output_type": "stream",
     "text": [
      "1\n",
      "2\n"
     ]
    }
   ],
   "source": [
    "d=np.array([[1,2],[3,4]]); #ndim defines whether given array is 1D, 2D and so on...\n",
    "# or in other words, number of indices required to locate a given element.\n",
    "# when we define multidimensional arrays, array elements in each item must be same.\n",
    "print(a.ndim);\n",
    "print(d.ndim);"
   ]
  },
  {
   "cell_type": "code",
   "execution_count": 11,
   "id": "95cfb9d9",
   "metadata": {},
   "outputs": [
    {
     "name": "stdout",
     "output_type": "stream",
     "text": [
      "2\n"
     ]
    }
   ],
   "source": [
    "print(d[0,1]);"
   ]
  },
  {
   "cell_type": "code",
   "execution_count": 13,
   "id": "d3bc93c3",
   "metadata": {},
   "outputs": [
    {
     "name": "stdout",
     "output_type": "stream",
     "text": [
      "2\n"
     ]
    }
   ],
   "source": [
    "e=np.array([[1,2],[3,4],[5,6],[7,8]])\n",
    "print(e.ndim);"
   ]
  },
  {
   "cell_type": "code",
   "execution_count": 14,
   "id": "3225e787",
   "metadata": {},
   "outputs": [
    {
     "name": "stdout",
     "output_type": "stream",
     "text": [
      "6\n"
     ]
    }
   ],
   "source": [
    "print(e[2,1]);"
   ]
  },
  {
   "cell_type": "code",
   "execution_count": 15,
   "id": "676d02c7",
   "metadata": {},
   "outputs": [
    {
     "name": "stdout",
     "output_type": "stream",
     "text": [
      "(4, 2)\n"
     ]
    }
   ],
   "source": [
    "print(e.shape);\n",
    "# we know e is 2D array, thus printing, number of 1D arrays then number of elements in each 1D array\n",
    "# if 3D array, then (x,y,z) x:2d arrays, y:1d arrays, z:number of elements in each array."
   ]
  },
  {
   "cell_type": "code",
   "execution_count": 20,
   "id": "0398a29d",
   "metadata": {},
   "outputs": [
    {
     "name": "stdout",
     "output_type": "stream",
     "text": [
      "4\n",
      "2\n"
     ]
    }
   ],
   "source": [
    "print(e.shape[0]);\n",
    "# number of 1 d arrays\n",
    "print(e.shape[1]);\n",
    "# number of elements in each array\n",
    "\n",
    "#if 3D array, 0,1,2 all valid, 0:2d arrays, 1:1d arrays, 2: elements in each"
   ]
  },
  {
   "cell_type": "code",
   "execution_count": 21,
   "id": "a1872d85",
   "metadata": {},
   "outputs": [
    {
     "name": "stdout",
     "output_type": "stream",
     "text": [
      "0\n"
     ]
    }
   ],
   "source": [
    "A=np.array(1);\n",
    "print(A.ndim);\n",
    "\n",
    "# only one element"
   ]
  },
  {
   "cell_type": "code",
   "execution_count": 22,
   "id": "a0782715",
   "metadata": {},
   "outputs": [
    {
     "name": "stdout",
     "output_type": "stream",
     "text": [
      "5\n"
     ]
    }
   ],
   "source": [
    "print(a.size);\n",
    "# no. of elements in that arraY"
   ]
  },
  {
   "cell_type": "code",
   "execution_count": 23,
   "id": "525b3bc4",
   "metadata": {},
   "outputs": [
    {
     "name": "stdout",
     "output_type": "stream",
     "text": [
      "[0 1 2 3 4 5 6 7 8 9]\n"
     ]
    }
   ],
   "source": [
    "a=np.arange(10);\n",
    "# generate elemnts in this range\n",
    "print(a);"
   ]
  },
  {
   "cell_type": "code",
   "execution_count": 24,
   "id": "cd4174cf",
   "metadata": {},
   "outputs": [
    {
     "name": "stdout",
     "output_type": "stream",
     "text": [
      "Variable   Type       Data/Info\n",
      "-------------------------------\n",
      "A          ndarray    : 1 elems, type `int32`, 4 bytes\n",
      "a          ndarray    10: 10 elems, type `int32`, 40 bytes\n",
      "b          ndarray    3: 3 elems, type `int32`, 12 bytes\n",
      "c          ndarray    3: 3 elems, type `float32`, 12 bytes\n",
      "d          ndarray    2x2: 4 elems, type `int32`, 16 bytes\n",
      "e          ndarray    4x2: 8 elems, type `int32`, 32 bytes\n",
      "np         module     <module 'numpy' from 'C:\\<...>ges\\\\numpy\\\\__init__.py'>\n"
     ]
    }
   ],
   "source": [
    "%whos\n"
   ]
  },
  {
   "cell_type": "code",
   "execution_count": 25,
   "id": "2fa13609",
   "metadata": {},
   "outputs": [
    {
     "name": "stdout",
     "output_type": "stream",
     "text": [
      "[5 6 7 8 9]\n"
     ]
    }
   ],
   "source": [
    "a=np.arange(5,10);\n",
    "print(a);"
   ]
  },
  {
   "cell_type": "code",
   "execution_count": 26,
   "id": "29505d7b",
   "metadata": {},
   "outputs": [
    {
     "name": "stdout",
     "output_type": "stream",
     "text": [
      "[ 5  7  9 11 13 15 17 19]\n"
     ]
    }
   ],
   "source": [
    "a=np.arange(5,20,2);\n",
    "print(a);"
   ]
  },
  {
   "cell_type": "code",
   "execution_count": 29,
   "id": "60604e05",
   "metadata": {},
   "outputs": [
    {
     "name": "stdout",
     "output_type": "stream",
     "text": [
      "[7 9 8 4 2 5 0 3 1 6]\n"
     ]
    }
   ],
   "source": [
    "a=np.random.permutation(np.arange(10));\n",
    "# shuffle elements\n",
    "print(a);"
   ]
  },
  {
   "cell_type": "code",
   "execution_count": 35,
   "id": "168bda48",
   "metadata": {},
   "outputs": [
    {
     "name": "stdout",
     "output_type": "stream",
     "text": [
      "59\n"
     ]
    }
   ],
   "source": [
    "a= np.random.randint(100);\n",
    "print(a);"
   ]
  },
  {
   "cell_type": "code",
   "execution_count": 34,
   "id": "0114737c",
   "metadata": {},
   "outputs": [
    {
     "name": "stdout",
     "output_type": "stream",
     "text": [
      "[0.52641154 0.73541144 0.34137729 0.25388769 0.57031828 0.30852803\n",
      " 0.71330962 0.7871766  0.49219283 0.22242731]\n"
     ]
    }
   ],
   "source": [
    "a=np.random.rand(10);\n",
    "print(a);"
   ]
  },
  {
   "cell_type": "code",
   "execution_count": 40,
   "id": "619be3ba",
   "metadata": {},
   "outputs": [
    {
     "name": "stdout",
     "output_type": "stream",
     "text": [
      "[[[ 0  1  2  3  4  5  6  7  8  9 10 11 12 13 14 15 16 17 18 19 20 21 22\n",
      "   23 24]\n",
      "  [25 26 27 28 29 30 31 32 33 34 35 36 37 38 39 40 41 42 43 44 45 46 47\n",
      "   48 49]]\n",
      "\n",
      " [[50 51 52 53 54 55 56 57 58 59 60 61 62 63 64 65 66 67 68 69 70 71 72\n",
      "   73 74]\n",
      "  [75 76 77 78 79 80 81 82 83 84 85 86 87 88 89 90 91 92 93 94 95 96 97\n",
      "   98 99]]]\n"
     ]
    }
   ],
   "source": [
    "d=np.arange(100).reshape(4,25);\n",
    "print(d);\n",
    "\n",
    "# give matrix with 100 elements, and size 2 x 25"
   ]
  },
  {
   "cell_type": "code",
   "execution_count": 41,
   "id": "9fe44ae8",
   "metadata": {},
   "outputs": [
    {
     "name": "stdout",
     "output_type": "stream",
     "text": [
      "[[[ 0  1  2  3  4  5  6  7  8  9 10 11 12 13 14 15 16 17 18 19 20 21 22\n",
      "   23 24]\n",
      "  [25 26 27 28 29 30 31 32 33 34 35 36 37 38 39 40 41 42 43 44 45 46 47\n",
      "   48 49]]\n",
      "\n",
      " [[50 51 52 53 54 55 56 57 58 59 60 61 62 63 64 65 66 67 68 69 70 71 72\n",
      "   73 74]\n",
      "  [75 76 77 78 79 80 81 82 83 84 85 86 87 88 89 90 91 92 93 94 95 96 97\n",
      "   98 99]]]\n"
     ]
    }
   ],
   "source": [
    "d=np.arange(100).reshape(2,2,25);\n",
    "print(d);"
   ]
  },
  {
   "cell_type": "code",
   "execution_count": 43,
   "id": "e772e1c6",
   "metadata": {},
   "outputs": [],
   "source": [
    "np.reshape?\n",
    "# get info on that function\n",
    "# np. (press tab) shows lists of functions"
   ]
  },
  {
   "cell_type": "code",
   "execution_count": 44,
   "id": "1670c01d",
   "metadata": {},
   "outputs": [
    {
     "name": "stdout",
     "output_type": "stream",
     "text": [
      "[3 4 5 6 7 8 9]\n"
     ]
    }
   ],
   "source": [
    "a=np.arange(100);\n",
    "b=a[3:10];\n",
    "\n",
    "print(b);\n"
   ]
  },
  {
   "cell_type": "code",
   "execution_count": 45,
   "id": "a7787077",
   "metadata": {},
   "outputs": [
    {
     "name": "stdout",
     "output_type": "stream",
     "text": [
      "[-1  4  5  6  7  8  9]\n"
     ]
    }
   ],
   "source": [
    "b[0]=-1;\n",
    "print(b);"
   ]
  },
  {
   "cell_type": "code",
   "execution_count": 46,
   "id": "2b22af01",
   "metadata": {},
   "outputs": [
    {
     "name": "stdout",
     "output_type": "stream",
     "text": [
      "[ 0  1  2 -1  4  5  6  7  8  9 10 11 12 13 14 15 16 17 18 19 20 21 22 23\n",
      " 24 25 26 27 28 29 30 31 32 33 34 35 36 37 38 39 40 41 42 43 44 45 46 47\n",
      " 48 49 50 51 52 53 54 55 56 57 58 59 60 61 62 63 64 65 66 67 68 69 70 71\n",
      " 72 73 74 75 76 77 78 79 80 81 82 83 84 85 86 87 88 89 90 91 92 93 94 95\n",
      " 96 97 98 99]\n"
     ]
    }
   ],
   "source": [
    "print(a);"
   ]
  },
  {
   "cell_type": "markdown",
   "id": "d157f349",
   "metadata": {},
   "source": [
    "This shows b is also sharing same memory as that of a, so if we make changes in b, also change in a. To avoid it use copy function."
   ]
  },
  {
   "cell_type": "code",
   "execution_count": 47,
   "id": "7c5ea488",
   "metadata": {},
   "outputs": [
    {
     "name": "stdout",
     "output_type": "stream",
     "text": [
      "[ 0  1  2  3  4  5  6  7  8  9 10 11 12 13 14 15 16 17 18 19 20 21 22 23\n",
      " 24 25 26 27 28 29 30 31 32 33 34 35 36 37 38 39 40 41 42 43 44 45 46 47\n",
      " 48 49 50 51 52 53 54 55 56 57 58 59 60 61 62 63 64 65 66 67 68 69 70 71\n",
      " 72 73 74 75 76 77 78 79 80 81 82 83 84 85 86 87 88 89 90 91 92 93 94 95\n",
      " 96 97 98 99]\n"
     ]
    }
   ],
   "source": [
    "a=np.arange(100);\n",
    "b=a[3:10].copy();\n",
    "\n",
    "b[1]=-1;\n",
    "print(a);"
   ]
  },
  {
   "cell_type": "code",
   "execution_count": 48,
   "id": "ab6a3a78",
   "metadata": {},
   "outputs": [
    {
     "name": "stdout",
     "output_type": "stream",
     "text": [
      "[ 0  1  2  3  4  5  6  7  8  9 10 11 12 13 14 15 16 17 18 19 20 21 22 23\n",
      " 24 25 26 27 28 29 30 31 32 33 34 35 36 37 38 39 40 41 42 43 44 45 46 47\n",
      " 48 49 50 51 52 53 54 55 56 57 58 59 60 61 62 63 64 65 66 67 68 69 70 71\n",
      " 72 73 74 75 76 77 78 79 80 81 82 83 84 85 86 87 88 89 90 91 92 93 94 95\n",
      " 96 97 98 99]\n"
     ]
    }
   ],
   "source": [
    "print(a[::])"
   ]
  },
  {
   "cell_type": "code",
   "execution_count": 50,
   "id": "ebfb47aa",
   "metadata": {},
   "outputs": [
    {
     "name": "stdout",
     "output_type": "stream",
     "text": [
      "[99 98 97 96 95 94 93 92 91 90 89 88 87 86 85 84 83 82 81 80 79 78 77 76\n",
      " 75 74 73 72 71 70 69 68 67 66 65 64 63 62 61 60 59 58 57 56 55 54 53 52\n",
      " 51 50 49 48 47 46 45 44 43 42 41 40 39 38 37 36 35 34 33 32 31 30 29 28\n",
      " 27 26 25 24 23 22 21 20 19 18 17 16 15 14 13 12 11 10  9  8  7  6  5  4\n",
      "  3  2  1  0]\n"
     ]
    }
   ],
   "source": [
    "print(a[::-1])"
   ]
  },
  {
   "cell_type": "code",
   "execution_count": 51,
   "id": "8640af46",
   "metadata": {},
   "outputs": [
    {
     "name": "stdout",
     "output_type": "stream",
     "text": [
      "[ 0  5 10 15 20 25 30 35 40 45 50 55 60 65 70 75 80 85 90 95]\n"
     ]
    }
   ],
   "source": [
    "print(a[::5])"
   ]
  },
  {
   "cell_type": "code",
   "execution_count": 52,
   "id": "53383d10",
   "metadata": {},
   "outputs": [
    {
     "name": "stdout",
     "output_type": "stream",
     "text": [
      "[[ 0  1  2  3  4  5  6  7  8  9]\n",
      " [10 11 12 13 14 15 16 17 18 19]\n",
      " [20 21 22 23 24 25 26 27 28 29]\n",
      " [30 31 32 33 34 35 36 37 38 39]\n",
      " [40 41 42 43 44 45 46 47 48 49]\n",
      " [50 51 52 53 54 55 56 57 58 59]\n",
      " [60 61 62 63 64 65 66 67 68 69]\n",
      " [70 71 72 73 74 75 76 77 78 79]\n",
      " [80 81 82 83 84 85 86 87 88 89]\n",
      " [90 91 92 93 94 95 96 97 98 99]]\n"
     ]
    }
   ],
   "source": [
    "a=np.arange(100).reshape(10,10);\n",
    "print(a);"
   ]
  },
  {
   "cell_type": "code",
   "execution_count": 53,
   "id": "89f604b0",
   "metadata": {},
   "outputs": [
    {
     "name": "stdout",
     "output_type": "stream",
     "text": [
      "[[ 0 10 20 30 40 50 60 70 80 90]\n",
      " [ 1 11 21 31 41 51 61 71 81 91]\n",
      " [ 2 12 22 32 42 52 62 72 82 92]\n",
      " [ 3 13 23 33 43 53 63 73 83 93]\n",
      " [ 4 14 24 34 44 54 64 74 84 94]\n",
      " [ 5 15 25 35 45 55 65 75 85 95]\n",
      " [ 6 16 26 36 46 56 66 76 86 96]\n",
      " [ 7 17 27 37 47 57 67 77 87 97]\n",
      " [ 8 18 28 38 48 58 68 78 88 98]\n",
      " [ 9 19 29 39 49 59 69 79 89 99]]\n"
     ]
    }
   ],
   "source": [
    "print(a.T);\n",
    "# transpose"
   ]
  },
  {
   "cell_type": "code",
   "execution_count": 60,
   "id": "d5aeae97",
   "metadata": {},
   "outputs": [
    {
     "name": "stdout",
     "output_type": "stream",
     "text": [
      "[  5   6   7   8   9  10  11  12  13  14  15  16  17  18  19  20  21  22\n",
      "  23  24  25  26  27  28  29  30  31  32  33  34  35  36  37  38  39  40\n",
      "  41  42  43  44  45  46  47  48  49  50  51  52  53  54  55  56  57  58\n",
      "  59  60  61  62  63  64  65  66  67  68  69  70  71  72  73  74  75  76\n",
      "  77  78  79  80  81  82  83  84  85  86  87  88  89  90  91  92  93  94\n",
      "  95  96  97  98  99 100 101 102 103 104]\n"
     ]
    }
   ],
   "source": [
    "a=np.arange(100);\n",
    "a=a+5;\n",
    "# add 5 to all elements (Broadcasting) (Adding a static value to a numpy array)\n",
    "print(a);"
   ]
  },
  {
   "cell_type": "code",
   "execution_count": 61,
   "id": "04a9b7ce",
   "metadata": {},
   "outputs": [
    {
     "name": "stdout",
     "output_type": "stream",
     "text": [
      "[0 1 2 3 4 5 6 7 8 9]\n",
      "[10 11 12 13 14 15 16 17 18 19]\n"
     ]
    }
   ],
   "source": [
    "a=np.arange(10);\n",
    "b=np.arange(10,20);\n",
    "\n",
    "print(a);\n",
    "print(b);"
   ]
  },
  {
   "cell_type": "code",
   "execution_count": 62,
   "id": "af057a4a",
   "metadata": {},
   "outputs": [
    {
     "name": "stdout",
     "output_type": "stream",
     "text": [
      "[ 0  1  2  3  4  5  6  7  8  9 10 11 12 13 14 15 16 17 18 19]\n"
     ]
    }
   ],
   "source": [
    "c=np.hstack((a,b))\n",
    "print(c);"
   ]
  },
  {
   "cell_type": "code",
   "execution_count": 63,
   "id": "29338066",
   "metadata": {},
   "outputs": [
    {
     "name": "stdout",
     "output_type": "stream",
     "text": [
      "[[ 0  1  2  3  4  5  6  7  8  9]\n",
      " [10 11 12 13 14 15 16 17 18 19]]\n"
     ]
    }
   ],
   "source": [
    "c=np.vstack((a,b));\n",
    "print(c);"
   ]
  },
  {
   "cell_type": "code",
   "execution_count": 64,
   "id": "ca76bcf1",
   "metadata": {},
   "outputs": [
    {
     "name": "stdout",
     "output_type": "stream",
     "text": [
      "[9 8 7 6 5 4 3 2 1 0]\n"
     ]
    }
   ],
   "source": [
    "a=a[::-1];\n",
    "print(a);\n"
   ]
  },
  {
   "cell_type": "code",
   "execution_count": 65,
   "id": "4ca7e7cf",
   "metadata": {},
   "outputs": [
    {
     "name": "stdout",
     "output_type": "stream",
     "text": [
      "[0 1 2 3 4 5 6 7 8 9]\n"
     ]
    }
   ],
   "source": [
    "a.sort();\n",
    "print(a);"
   ]
  },
  {
   "cell_type": "code",
   "execution_count": 73,
   "id": "4f4cc170",
   "metadata": {},
   "outputs": [
    {
     "name": "stdout",
     "output_type": "stream",
     "text": [
      "7.16 µs ± 171 ns per loop (mean ± std. dev. of 7 runs, 100000 loops each)\n",
      "3.29 µs ± 199 ns per loop (mean ± std. dev. of 7 runs, 100000 loops each)\n"
     ]
    }
   ],
   "source": [
    "a=np.arange(100);\n",
    "%timeit sum(a);\n",
    "%timeit np.sum(a);\n",
    "\n",
    "# shows how fast numpy is"
   ]
  }
 ],
 "metadata": {
  "kernelspec": {
   "display_name": "Python 3",
   "language": "python",
   "name": "python3"
  },
  "language_info": {
   "codemirror_mode": {
    "name": "ipython",
    "version": 3
   },
   "file_extension": ".py",
   "mimetype": "text/x-python",
   "name": "python",
   "nbconvert_exporter": "python",
   "pygments_lexer": "ipython3",
   "version": "3.8.8"
  }
 },
 "nbformat": 4,
 "nbformat_minor": 5
}
